{
 "cells": [
  {
   "cell_type": "code",
   "execution_count": 211,
   "id": "feda023a",
   "metadata": {},
   "outputs": [],
   "source": [
    "import numpy as np\n",
    "import pandas as pd"
   ]
  },
  {
   "cell_type": "code",
   "execution_count": 212,
   "id": "e5dbe491",
   "metadata": {},
   "outputs": [],
   "source": [
    "f = open('./성심당.txt','r')\n",
    "# f.close()"
   ]
  },
  {
   "cell_type": "code",
   "execution_count": 213,
   "id": "63d56432",
   "metadata": {},
   "outputs": [
    {
     "name": "stdout",
     "output_type": "stream",
     "text": [
      "최근 온라인상에는 “10월 17일 대전에 가지 마세요”라는 글이 여기저기 퍼지고 있다. 이유는 그날이 대전의 대표적 관광지이자 전국 3대 빵집 중 하나인 성심당 전 매장이 문을 닫기 때문이다. 성심당 빵은 미쉐린 가이드에도 소개된 바 있고, 2014년 프란치스코 교황이 방한했을 때 즐겨 드셨던 빵으로도 유명하다.\n",
      "\n",
      "성심당은 13일 공식 소셜미디어에 계정에 “삐뽀삐뽀. 10월 17일 성심당 전 매장휴무. 2022 성심당 한가족캠프로 인해 하루 쉬어갑니다. 성심당 방문 시 참고해주세요”라고 공지했다. 성심당 매장은 은행동에 있는 본점, 대전 롯데백화점 내 대전점, 대전역점, 대전컨벤션센터점 등 총 4개다. 모두 대전에만 있다. 성심당을 운영하는 주식회사 로쏘의 외식 브랜드인 테라스키친, 플라잉팬, 삐아또, 우동야, 오븐스토리 역시 한가족캠프로 휴무다.\n",
      "\n",
      "\n",
      "10월17일 대전 유명 빵집 '성심당' 휴무 공지 /성심당 공식 인스타그램\n",
      "\n",
      "성심당은 1년 365일 중 한가족캠프일 하루만 문을 닫는다. 이날은 직원들이 모여 체육대회와 장기자랑 등 화합의 시간을 갖는다. 올해는 직원수만 무려 550여명이다. 장소는 옥천공설운동장이다.\n",
      "\n",
      "성심당 휴무 소식이 전해진 뒤 온라인상에서는 센스있는 반응이 쏟아졌다. 가장 많은 호응을 얻은 댓글은 “이런 건 재난경보로 알려주세요”, “17일 KTX 도착지 ‘대전’ 누르면 팝업창 떠야되는 거 아니냐”였다. 17일 대전 방문을 앞둔 네티즌들의 좌절 섞인 반응도 눈길을 끌었다. 한 네티즌은 “이날 대전가는데, 역에서 성심당 사 가지고 갈라 그랬는데 슬프다”라고 아쉬워했다. 대전 지역 맘카페 회원들은 휴무 소식을 공유하며 “가뜩이나 노잼 도시인데 더 노잼되겠군”이라는 ‘웃픈’(웃기고 슬픈)반응을 보였다.\n",
      "\n",
      "\n",
      "성심당의 대표 상품 ‘튀김 소보로’/조선일보 DB\n",
      "\n",
      "성심당 휴무일에 많은 네티즌들이 관심을 갖는 이유는 맛도 맛이지만, 성심당이 착한 빵집이라는 이유도 있다. 성심당은 기부를 많이 하는 빵집으로 유명하다. 매일 팔고 남은 성심당 빵은 고아원, 양로원, 장애인 시설 등에 배달된다. 또 매년 아프리카 어린이돕기와 장학재단에도 꾸준히 기부를 하고 있다.\n",
      "\n",
      "가격 역시 착하다. 대표 제품 ‘튀김소보로’와 ‘튀소구마’ 가격을 오랫동안 1500원으로 유지했으나, 올해 초 원자재 가격 상승으로 100원을 인상했다. 그러나 여전히 저렴하다는 반응이 많다\n"
     ]
    }
   ],
   "source": [
    "with open('./성심당.txt','r', encoding ='utf-8') as f:\n",
    "    example = f.read()\n",
    "print(example)"
   ]
  },
  {
   "cell_type": "code",
   "execution_count": 214,
   "id": "58c53b28",
   "metadata": {},
   "outputs": [
    {
     "name": "stderr",
     "output_type": "stream",
     "text": [
      "C:\\Users\\chohyeri\\AppData\\Local\\Temp\\ipykernel_9932\\3289053519.py:1: FutureWarning: In a future version of pandas all arguments of read_csv except for the argument 'filepath_or_buffer' will be keyword-only.\n",
      "  txt = pd.read_csv('./성심당.txt','r')\n"
     ]
    },
    {
     "data": {
      "text/html": [
       "<div>\n",
       "<style scoped>\n",
       "    .dataframe tbody tr th:only-of-type {\n",
       "        vertical-align: middle;\n",
       "    }\n",
       "\n",
       "    .dataframe tbody tr th {\n",
       "        vertical-align: top;\n",
       "    }\n",
       "\n",
       "    .dataframe thead th {\n",
       "        text-align: right;\n",
       "    }\n",
       "</style>\n",
       "<table border=\"1\" class=\"dataframe\">\n",
       "  <thead>\n",
       "    <tr style=\"text-align: right;\">\n",
       "      <th></th>\n",
       "      <th>최근 온라인상에는 “10월 17일 대전에 가지 마세요”라는 글이 여기저기 퍼지고 있다. 이유는 그날이 대전의 대표적 관광지이자 전국 3대 빵집 중 하나인 성심당 전 매장이 문을 닫기 때문이다. 성심당 빵은 미쉐린 가이드에도 소개된 바 있고, 2014년 프란치스코 교황이 방한했을 때 즐겨 드셨던 빵으로도 유명하다.</th>\n",
       "    </tr>\n",
       "  </thead>\n",
       "  <tbody>\n",
       "    <tr>\n",
       "      <th>0</th>\n",
       "      <td>성심당은 13일 공식 소셜미디어에 계정에 “삐뽀삐뽀. 10월 17일 성심당 전 매장...</td>\n",
       "    </tr>\n",
       "    <tr>\n",
       "      <th>1</th>\n",
       "      <td>10월17일 대전 유명 빵집 '성심당' 휴무 공지 /성심당 공식 인스타그램</td>\n",
       "    </tr>\n",
       "    <tr>\n",
       "      <th>2</th>\n",
       "      <td>성심당은 1년 365일 중 한가족캠프일 하루만 문을 닫는다. 이날은 직원들이 모여 ...</td>\n",
       "    </tr>\n",
       "    <tr>\n",
       "      <th>3</th>\n",
       "      <td>성심당 휴무 소식이 전해진 뒤 온라인상에서는 센스있는 반응이 쏟아졌다. 가장 많은 ...</td>\n",
       "    </tr>\n",
       "    <tr>\n",
       "      <th>4</th>\n",
       "      <td>성심당의 대표 상품 ‘튀김 소보로’/조선일보 DB</td>\n",
       "    </tr>\n",
       "    <tr>\n",
       "      <th>5</th>\n",
       "      <td>성심당 휴무일에 많은 네티즌들이 관심을 갖는 이유는 맛도 맛이지만, 성심당이 착한 ...</td>\n",
       "    </tr>\n",
       "    <tr>\n",
       "      <th>6</th>\n",
       "      <td>가격 역시 착하다. 대표 제품 ‘튀김소보로’와 ‘튀소구마’ 가격을 오랫동안 1500...</td>\n",
       "    </tr>\n",
       "  </tbody>\n",
       "</table>\n",
       "</div>"
      ],
      "text/plain": [
       "  최근 온라인상에는 “10월 17일 대전에 가지 마세요”라는 글이 여기저기 퍼지고 있다. 이유는 그날이 대전의 대표적 관광지이자 전국 3대 빵집 중 하나인 성심당 전 매장이 문을 닫기 때문이다. 성심당 빵은 미쉐린 가이드에도 소개된 바 있고, 2014년 프란치스코 교황이 방한했을 때 즐겨 드셨던 빵으로도 유명하다.\n",
       "0  성심당은 13일 공식 소셜미디어에 계정에 “삐뽀삐뽀. 10월 17일 성심당 전 매장...                                                                                                                             \n",
       "1          10월17일 대전 유명 빵집 '성심당' 휴무 공지 /성심당 공식 인스타그램                                                                                                                             \n",
       "2  성심당은 1년 365일 중 한가족캠프일 하루만 문을 닫는다. 이날은 직원들이 모여 ...                                                                                                                             \n",
       "3  성심당 휴무 소식이 전해진 뒤 온라인상에서는 센스있는 반응이 쏟아졌다. 가장 많은 ...                                                                                                                             \n",
       "4                        성심당의 대표 상품 ‘튀김 소보로’/조선일보 DB                                                                                                                             \n",
       "5  성심당 휴무일에 많은 네티즌들이 관심을 갖는 이유는 맛도 맛이지만, 성심당이 착한 ...                                                                                                                             \n",
       "6  가격 역시 착하다. 대표 제품 ‘튀김소보로’와 ‘튀소구마’ 가격을 오랫동안 1500...                                                                                                                             "
      ]
     },
     "execution_count": 214,
     "metadata": {},
     "output_type": "execute_result"
    }
   ],
   "source": [
    "txt = pd.read_csv('./성심당.txt','r')\n",
    "txt"
   ]
  },
  {
   "cell_type": "code",
   "execution_count": 215,
   "id": "ec895f48",
   "metadata": {},
   "outputs": [],
   "source": [
    "import matplotlib.pyplot as plt\n",
    "import numpy as np\n",
    "import os\n",
    "import re\n",
    "from PIL import Image\n",
    "from os import path\n",
    "from wordcloud import WordCloud\n",
    "from konlpy.tag import Twitter"
   ]
  },
  {
   "cell_type": "code",
   "execution_count": 216,
   "id": "44a9c1bf",
   "metadata": {},
   "outputs": [],
   "source": [
    "mask = np.array(Image.open('./cloud.png'))"
   ]
  },
  {
   "cell_type": "code",
   "execution_count": 217,
   "id": "d3b2ad18",
   "metadata": {},
   "outputs": [
    {
     "name": "stderr",
     "output_type": "stream",
     "text": [
      "c:\\Users\\chohyeri\\anaconda3\\envs\\diary\\lib\\site-packages\\konlpy\\tag\\_okt.py:17: UserWarning: \"Twitter\" has changed to \"Okt\" since KoNLPy v0.4.5.\n",
      "  warn('\"Twitter\" has changed to \"Okt\" since KoNLPy v0.4.5.')\n"
     ]
    }
   ],
   "source": [
    "twitter = Twitter()\n",
    "    \n",
    "morph_list = []\n",
    "    \n",
    "for i in txt:\n",
    "    morphs = twitter.nouns(i) \n",
    "    \n",
    "    for morph in morphs:\n",
    "        morph_list.append(morph)"
   ]
  },
  {
   "cell_type": "code",
   "execution_count": 218,
   "id": "e87120d7",
   "metadata": {},
   "outputs": [],
   "source": [
    "# f = open('./data/morph.txt','r', encoding='utf8')\n",
    "# txt = f.readlines()\n",
    "# f.close()"
   ]
  },
  {
   "cell_type": "code",
   "execution_count": 219,
   "id": "7d218e9c",
   "metadata": {},
   "outputs": [],
   "source": [
    "# 줄바꾸기 지우기\n",
    "new_txt = []\n",
    "for i in morph_list:\n",
    "    new_txt.append(i.replace('\\n',''))"
   ]
  },
  {
   "cell_type": "code",
   "execution_count": 220,
   "id": "9a1cc72d",
   "metadata": {},
   "outputs": [],
   "source": [
    "str_txt = ''\n",
    "for i in new_txt:\n",
    "    str_txt = str_txt + i + ' '"
   ]
  },
  {
   "cell_type": "code",
   "execution_count": 221,
   "id": "263d6646",
   "metadata": {},
   "outputs": [],
   "source": [
    "new_array_2 = [(1,2),(3,4)]"
   ]
  },
  {
   "cell_type": "code",
   "execution_count": 222,
   "id": "9af277d9",
   "metadata": {},
   "outputs": [
    {
     "data": {
      "text/plain": [
       "[('대전', 2),\n",
       " ('성심당', 2),\n",
       " ('빵', 2),\n",
       " ('최근', 1),\n",
       " ('온라인', 1),\n",
       " ('가지', 1),\n",
       " ('글', 1),\n",
       " ('여기저기', 1),\n",
       " ('이유', 1),\n",
       " ('그날', 1),\n",
       " ('대표', 1),\n",
       " ('관광지', 1),\n",
       " ('이자', 1),\n",
       " ('전국', 1),\n",
       " ('빵집', 1),\n",
       " ('중', 1),\n",
       " ('하나', 1),\n",
       " ('전', 1),\n",
       " ('매장', 1),\n",
       " ('문', 1),\n",
       " ('때문', 1),\n",
       " ('미쉐린', 1),\n",
       " ('가이드', 1),\n",
       " ('소개', 1),\n",
       " ('바', 1),\n",
       " ('프란치스코', 1),\n",
       " ('교황', 1),\n",
       " ('방한', 1),\n",
       " ('때', 1)]"
      ]
     },
     "execution_count": 222,
     "metadata": {},
     "output_type": "execute_result"
    }
   ],
   "source": [
    "from collections import Counter\n",
    "Counter(new_txt).most_common()"
   ]
  },
  {
   "cell_type": "code",
   "execution_count": 223,
   "id": "9de7d4fb",
   "metadata": {},
   "outputs": [],
   "source": [
    "# stopwords = 워드클라우드에서 제외할 단어들의 집합\n",
    "\n",
    "stop = [' ', '.', ',', '-', '을','를','와','의','는','에','으로','은','이','과','고',\n",
    "       '로','입니다','가','까지']\n",
    "stopwords = set(stop)"
   ]
  },
  {
   "cell_type": "code",
   "execution_count": 224,
   "id": "24d500c3",
   "metadata": {},
   "outputs": [
    {
     "data": {
      "image/png": "[encoded data removed]",
      "text/plain": [
       "<Figure size 700x700 with 1 Axes>"
      ]
     },
     "metadata": {},
     "output_type": "display_data"
    }
   ],
   "source": [
    "wc = WordCloud(font_path = 'C:/Windows/Fonts/gulim.ttc',max_words=1000, mask=mask, stopwords=stopwords, margin=10,\n",
    "               random_state=1, contour_color = 'black').generate(str_txt)\n",
    "\n",
    "wc.to_file(\"a_new_hope.png\")\n",
    "# plt.axis(\"off\")\n",
    "plt.figure(figsize = (7,7))\n",
    "plt.title(\"news_Daejeon\")\n",
    "plt.imshow(wc, interpolation=\"bilinear\")\n",
    "plt.axis(\"off\")\n",
    "plt.show()"
   ]
  },
  {
   "cell_type": "code",
   "execution_count": 225,
   "id": "e5871278",
   "metadata": {},
   "outputs": [
    {
     "name": "stdout",
     "output_type": "stream",
     "text": [
      "[' ', '.', ',', '-', '을', '를', '와', '의', '는', '에', '으로', '은', '이', '과', '고', '로', '입니다', '가', '까지', '성심당', '빵', '최근']\n"
     ]
    }
   ],
   "source": [
    "# Counter module에 변수 자동 선언 되어있음 \n",
    "# c=Counter(new_txt).most_common()\n",
    "# 위 배열에서 출현 빈도수 1~4위까지 단어를 stop에 추가 ex) 출현빈도가 높은 단어중 불용어가 포함됐을때의 단어를 처리할때 사용 \n",
    "for i in range(4):\n",
    "    stop.append(c[i][0])\n",
    "#     # print(stop)\n",
    "\n"
   ]
  },
  {
   "cell_type": "code",
   "execution_count": null,
   "id": "36bc3f6d",
   "metadata": {},
   "outputs": [],
   "source": [
    "# ### 여러개 추가 후 꼭 필요한 단어를 stop에서 제외\n",
    "for i in range(4):\n",
    "    stop.append(c[i][0])\n",
    "stop.remove('대전')\n",
    "print(stop)"
   ]
  },
  {
   "cell_type": "code",
   "execution_count": null,
   "id": "7bc3c184",
   "metadata": {},
   "outputs": [],
   "source": []
  },
  {
   "cell_type": "code",
   "execution_count": null,
   "id": "0928079c",
   "metadata": {},
   "outputs": [],
   "source": []
  },
  {
   "cell_type": "code",
   "execution_count": null,
   "id": "00fa937b",
   "metadata": {},
   "outputs": [],
   "source": []
  }
 ],
 "metadata": {
  "kernelspec": {
   "display_name": "diary_kernel",
   "language": "python",
   "name": "diary"
  },
  "language_info": {
   "codemirror_mode": {
    "name": "ipython",
    "version": 3
   },
   "file_extension": ".py",
   "mimetype": "text/x-python",
   "name": "python",
   "nbconvert_exporter": "python",
   "pygments_lexer": "ipython3",
   "version": "3.10.6"
  },
  "vscode": {
   "interpreter": {
    "hash": "38ae1ba9371524da054e8e3fbefd778d16b5a8ac7937a3f395010f627bb73919"
   }
  }
 },
 "nbformat": 4,
 "nbformat_minor": 5
}
