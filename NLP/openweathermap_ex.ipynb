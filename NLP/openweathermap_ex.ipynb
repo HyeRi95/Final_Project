{
 "cells": [
  {
   "cell_type": "code",
   "execution_count": 4,
   "metadata": {},
   "outputs": [],
   "source": [
    "import requests\n",
    "import json"
   ]
  },
  {
   "cell_type": "code",
   "execution_count": 10,
   "metadata": {},
   "outputs": [],
   "source": [
    "def weather_info(city):\n",
    "    # 날씨 api \n",
    "    apiKey = \"\"\n",
    "    lang = 'kr' #언어\n",
    "    units = 'metric' #화씨 온도를 섭씨 온도로 변경\n",
    "    api = f\"https://api.openweathermap.org/data/2.5/weather?q={city}&appid={apiKey}&lang={lang}&units={units}\"\n",
    "    result = requests.get(api)\n",
    "    result = json.loads(result.text)\n",
    "\n",
    "    weather = result['weather'][0]['main']\n",
    "    return result\n",
    "\n",
    "    "
   ]
  },
  {
   "cell_type": "code",
   "execution_count": 11,
   "metadata": {},
   "outputs": [
    {
     "data": {
      "text/plain": [
       "{'coord': {'lon': 129.0403, 'lat': 35.1028},\n",
       " 'weather': [{'id': 800, 'main': 'Clear', 'description': '맑음', 'icon': '01d'}],\n",
       " 'base': 'stations',\n",
       " 'main': {'temp': 17.99,\n",
       "  'feels_like': 16.42,\n",
       "  'temp_min': 17.99,\n",
       "  'temp_max': 17.99,\n",
       "  'pressure': 1018,\n",
       "  'humidity': 22},\n",
       " 'visibility': 10000,\n",
       " 'wind': {'speed': 5.66, 'deg': 340},\n",
       " 'clouds': {'all': 0},\n",
       " 'dt': 1666597970,\n",
       " 'sys': {'type': 1,\n",
       "  'id': 8086,\n",
       "  'country': 'KR',\n",
       "  'sunrise': 1666561018,\n",
       "  'sunset': 1666600736},\n",
       " 'timezone': 32400,\n",
       " 'id': 1838524,\n",
       " 'name': 'Busan',\n",
       " 'cod': 200}"
      ]
     },
     "execution_count": 11,
     "metadata": {},
     "output_type": "execute_result"
    }
   ],
   "source": [
    "weather_info(\"busan\")"
   ]
  },
  {
   "cell_type": "code",
   "execution_count": 12,
   "metadata": {},
   "outputs": [],
   "source": [
    "def city_weather(city):\n",
    "    # 날씨 api \n",
    "    apiKey = \"\"\n",
    "    lang = 'kr' #언어\n",
    "    units = 'metric' #화씨 온도를 섭씨 온도로 변경\n",
    "    api = f\"https://api.openweathermap.org/data/2.5/weather?q={city}&appid={apiKey}&lang={lang}&units={units}\"\n",
    "    result = requests.get(api)\n",
    "    result = json.loads(result.text)\n",
    "\n",
    "    weather = result['weather'][0]['description']\n",
    "    return weather"
   ]
  },
  {
   "cell_type": "code",
   "execution_count": 15,
   "metadata": {},
   "outputs": [
    {
     "name": "stdout",
     "output_type": "stream",
     "text": [
      "맑음\n",
      "busan의 날씨는 맑음 입니다.\n"
     ]
    }
   ],
   "source": [
    "city = \"busan\"\n",
    "print(city_weather(city))\n",
    "print(city+\"의 날씨는 \"+city_weather(city)+\" 입니다.\")\n"
   ]
  }
 ],
 "metadata": {
  "kernelspec": {
   "display_name": "diary_kernel",
   "language": "python",
   "name": "diary"
  },
  "language_info": {
   "codemirror_mode": {
    "name": "ipython",
    "version": 3
   },
   "file_extension": ".py",
   "mimetype": "text/x-python",
   "name": "python",
   "nbconvert_exporter": "python",
   "pygments_lexer": "ipython3",
   "version": "3.10.6"
  },
  "orig_nbformat": 4,
  "vscode": {
   "interpreter": {
    "hash": "38ae1ba9371524da054e8e3fbefd778d16b5a8ac7937a3f395010f627bb73919"
   }
  }
 },
 "nbformat": 4,
 "nbformat_minor": 2
}
